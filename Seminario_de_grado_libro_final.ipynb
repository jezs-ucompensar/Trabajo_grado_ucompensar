{
  "nbformat": 4,
  "nbformat_minor": 0,
  "metadata": {
    "colab": {
      "provenance": []
    },
    "kernelspec": {
      "name": "python3",
      "display_name": "Python 3"
    },
    "language_info": {
      "name": "python"
    }
  },
  "cells": [
    {
      "cell_type": "markdown",
      "source": [
        "# Herramienta procesamiento de Datos para analisis de alertas tempranas\n",
        "\n",
        "\n",
        "\n",
        "\n",
        "\n"
      ],
      "metadata": {
        "id": "lkbVbHBRw9gh"
      }
    },
    {
      "cell_type": "markdown",
      "source": [
        "Importación de librerias necesarias para ejecución del codigo"
      ],
      "metadata": {
        "id": "a-S1_XDNwdzm"
      }
    },
    {
      "cell_type": "code",
      "execution_count": 121,
      "metadata": {
        "id": "lX_WLze9t1zt"
      },
      "outputs": [],
      "source": [
        "from google.colab import files\n",
        "import pandas as pd\n",
        "from sklearn.model_selection import train_test_split\n",
        "from sklearn.ensemble import RandomForestClassifier\n",
        "from sklearn.preprocessing import StandardScaler\n",
        "from sklearn.metrics import accuracy_score, classification_report\n",
        "import matplotlib.pyplot as plt\n",
        "import seaborn as sns\n",
        "\n"
      ]
    },
    {
      "cell_type": "code",
      "source": [
        "from google.colab import files\n",
        "uploaded = files.upload()"
      ],
      "metadata": {
        "colab": {
          "base_uri": "https://localhost:8080/",
          "height": 73
        },
        "id": "NOOAOjp2sY2m",
        "outputId": "9bba7dc6-46bf-484f-8687-0654862ae0ce"
      },
      "execution_count": 123,
      "outputs": [
        {
          "output_type": "display_data",
          "data": {
            "text/plain": [
              "<IPython.core.display.HTML object>"
            ],
            "text/html": [
              "\n",
              "     <input type=\"file\" id=\"files-4b3c8a67-33b4-4794-b29e-133389347fe5\" name=\"files[]\" multiple disabled\n",
              "        style=\"border:none\" />\n",
              "     <output id=\"result-4b3c8a67-33b4-4794-b29e-133389347fe5\">\n",
              "      Upload widget is only available when the cell has been executed in the\n",
              "      current browser session. Please rerun this cell to enable.\n",
              "      </output>\n",
              "      <script>// Copyright 2017 Google LLC\n",
              "//\n",
              "// Licensed under the Apache License, Version 2.0 (the \"License\");\n",
              "// you may not use this file except in compliance with the License.\n",
              "// You may obtain a copy of the License at\n",
              "//\n",
              "//      http://www.apache.org/licenses/LICENSE-2.0\n",
              "//\n",
              "// Unless required by applicable law or agreed to in writing, software\n",
              "// distributed under the License is distributed on an \"AS IS\" BASIS,\n",
              "// WITHOUT WARRANTIES OR CONDITIONS OF ANY KIND, either express or implied.\n",
              "// See the License for the specific language governing permissions and\n",
              "// limitations under the License.\n",
              "\n",
              "/**\n",
              " * @fileoverview Helpers for google.colab Python module.\n",
              " */\n",
              "(function(scope) {\n",
              "function span(text, styleAttributes = {}) {\n",
              "  const element = document.createElement('span');\n",
              "  element.textContent = text;\n",
              "  for (const key of Object.keys(styleAttributes)) {\n",
              "    element.style[key] = styleAttributes[key];\n",
              "  }\n",
              "  return element;\n",
              "}\n",
              "\n",
              "// Max number of bytes which will be uploaded at a time.\n",
              "const MAX_PAYLOAD_SIZE = 100 * 1024;\n",
              "\n",
              "function _uploadFiles(inputId, outputId) {\n",
              "  const steps = uploadFilesStep(inputId, outputId);\n",
              "  const outputElement = document.getElementById(outputId);\n",
              "  // Cache steps on the outputElement to make it available for the next call\n",
              "  // to uploadFilesContinue from Python.\n",
              "  outputElement.steps = steps;\n",
              "\n",
              "  return _uploadFilesContinue(outputId);\n",
              "}\n",
              "\n",
              "// This is roughly an async generator (not supported in the browser yet),\n",
              "// where there are multiple asynchronous steps and the Python side is going\n",
              "// to poll for completion of each step.\n",
              "// This uses a Promise to block the python side on completion of each step,\n",
              "// then passes the result of the previous step as the input to the next step.\n",
              "function _uploadFilesContinue(outputId) {\n",
              "  const outputElement = document.getElementById(outputId);\n",
              "  const steps = outputElement.steps;\n",
              "\n",
              "  const next = steps.next(outputElement.lastPromiseValue);\n",
              "  return Promise.resolve(next.value.promise).then((value) => {\n",
              "    // Cache the last promise value to make it available to the next\n",
              "    // step of the generator.\n",
              "    outputElement.lastPromiseValue = value;\n",
              "    return next.value.response;\n",
              "  });\n",
              "}\n",
              "\n",
              "/**\n",
              " * Generator function which is called between each async step of the upload\n",
              " * process.\n",
              " * @param {string} inputId Element ID of the input file picker element.\n",
              " * @param {string} outputId Element ID of the output display.\n",
              " * @return {!Iterable<!Object>} Iterable of next steps.\n",
              " */\n",
              "function* uploadFilesStep(inputId, outputId) {\n",
              "  const inputElement = document.getElementById(inputId);\n",
              "  inputElement.disabled = false;\n",
              "\n",
              "  const outputElement = document.getElementById(outputId);\n",
              "  outputElement.innerHTML = '';\n",
              "\n",
              "  const pickedPromise = new Promise((resolve) => {\n",
              "    inputElement.addEventListener('change', (e) => {\n",
              "      resolve(e.target.files);\n",
              "    });\n",
              "  });\n",
              "\n",
              "  const cancel = document.createElement('button');\n",
              "  inputElement.parentElement.appendChild(cancel);\n",
              "  cancel.textContent = 'Cancel upload';\n",
              "  const cancelPromise = new Promise((resolve) => {\n",
              "    cancel.onclick = () => {\n",
              "      resolve(null);\n",
              "    };\n",
              "  });\n",
              "\n",
              "  // Wait for the user to pick the files.\n",
              "  const files = yield {\n",
              "    promise: Promise.race([pickedPromise, cancelPromise]),\n",
              "    response: {\n",
              "      action: 'starting',\n",
              "    }\n",
              "  };\n",
              "\n",
              "  cancel.remove();\n",
              "\n",
              "  // Disable the input element since further picks are not allowed.\n",
              "  inputElement.disabled = true;\n",
              "\n",
              "  if (!files) {\n",
              "    return {\n",
              "      response: {\n",
              "        action: 'complete',\n",
              "      }\n",
              "    };\n",
              "  }\n",
              "\n",
              "  for (const file of files) {\n",
              "    const li = document.createElement('li');\n",
              "    li.append(span(file.name, {fontWeight: 'bold'}));\n",
              "    li.append(span(\n",
              "        `(${file.type || 'n/a'}) - ${file.size} bytes, ` +\n",
              "        `last modified: ${\n",
              "            file.lastModifiedDate ? file.lastModifiedDate.toLocaleDateString() :\n",
              "                                    'n/a'} - `));\n",
              "    const percent = span('0% done');\n",
              "    li.appendChild(percent);\n",
              "\n",
              "    outputElement.appendChild(li);\n",
              "\n",
              "    const fileDataPromise = new Promise((resolve) => {\n",
              "      const reader = new FileReader();\n",
              "      reader.onload = (e) => {\n",
              "        resolve(e.target.result);\n",
              "      };\n",
              "      reader.readAsArrayBuffer(file);\n",
              "    });\n",
              "    // Wait for the data to be ready.\n",
              "    let fileData = yield {\n",
              "      promise: fileDataPromise,\n",
              "      response: {\n",
              "        action: 'continue',\n",
              "      }\n",
              "    };\n",
              "\n",
              "    // Use a chunked sending to avoid message size limits. See b/62115660.\n",
              "    let position = 0;\n",
              "    do {\n",
              "      const length = Math.min(fileData.byteLength - position, MAX_PAYLOAD_SIZE);\n",
              "      const chunk = new Uint8Array(fileData, position, length);\n",
              "      position += length;\n",
              "\n",
              "      const base64 = btoa(String.fromCharCode.apply(null, chunk));\n",
              "      yield {\n",
              "        response: {\n",
              "          action: 'append',\n",
              "          file: file.name,\n",
              "          data: base64,\n",
              "        },\n",
              "      };\n",
              "\n",
              "      let percentDone = fileData.byteLength === 0 ?\n",
              "          100 :\n",
              "          Math.round((position / fileData.byteLength) * 100);\n",
              "      percent.textContent = `${percentDone}% done`;\n",
              "\n",
              "    } while (position < fileData.byteLength);\n",
              "  }\n",
              "\n",
              "  // All done.\n",
              "  yield {\n",
              "    response: {\n",
              "      action: 'complete',\n",
              "    }\n",
              "  };\n",
              "}\n",
              "\n",
              "scope.google = scope.google || {};\n",
              "scope.google.colab = scope.google.colab || {};\n",
              "scope.google.colab._files = {\n",
              "  _uploadFiles,\n",
              "  _uploadFilesContinue,\n",
              "};\n",
              "})(self);\n",
              "</script> "
            ]
          },
          "metadata": {}
        },
        {
          "output_type": "stream",
          "name": "stdout",
          "text": [
            "Saving datos_estudiantes.xlsx to datos_estudiantes.xlsx\n"
          ]
        }
      ]
    },
    {
      "cell_type": "code",
      "source": [
        "filename = 'datos_estudiantes.xlsx'"
      ],
      "metadata": {
        "id": "v0vv7EI7sZz7"
      },
      "execution_count": 124,
      "outputs": []
    },
    {
      "cell_type": "code",
      "source": [
        "df = pd.read_excel(filename)"
      ],
      "metadata": {
        "id": "Qg2nmqvBssPT"
      },
      "execution_count": 125,
      "outputs": []
    },
    {
      "cell_type": "code",
      "source": [
        "csv_filename = '/content/datos_estudiantes.csv'\n",
        "df.to_csv(csv_filename, index=False)"
      ],
      "metadata": {
        "id": "QuHNsppfsxW4"
      },
      "execution_count": 126,
      "outputs": []
    },
    {
      "cell_type": "code",
      "source": [
        "print(f\"Archivo CSV guardado en: {csv_filename}\")"
      ],
      "metadata": {
        "colab": {
          "base_uri": "https://localhost:8080/"
        },
        "id": "11tKi8oHs2tl",
        "outputId": "05fdb908-112c-4fa6-b99b-0eae22e4c07e"
      },
      "execution_count": 127,
      "outputs": [
        {
          "output_type": "stream",
          "name": "stdout",
          "text": [
            "Archivo CSV guardado en: /content/datos_estudiantes.csv\n"
          ]
        }
      ]
    },
    {
      "cell_type": "code",
      "source": [
        "df_csv = pd.read_csv(csv_filename)"
      ],
      "metadata": {
        "id": "el2Tb9tGs6gB"
      },
      "execution_count": 128,
      "outputs": []
    },
    {
      "cell_type": "code",
      "source": [
        "print(df_csv.head())"
      ],
      "metadata": {
        "colab": {
          "base_uri": "https://localhost:8080/"
        },
        "id": "42uVk3bzs-IT",
        "outputId": "735ad243-a88c-4142-9402-9b2ccca1ff87"
      },
      "execution_count": 129,
      "outputs": [
        {
          "output_type": "stream",
          "name": "stdout",
          "text": [
            "       ID    SEDE  COD. PROGRAMA  \\\n",
            "0  396007  BOGOTA           2113   \n",
            "1  396007  BOGOTA           2113   \n",
            "2  396007  BOGOTA           2113   \n",
            "3  396007  BOGOTA           2113   \n",
            "4  396007  BOGOTA           2113   \n",
            "\n",
            "                                            PROGRAMA  SEMESTRE   CÓDIGO  \\\n",
            "0  TÉCNICA PROFESIONAL EN OPERACIÓN Y MANTENIMIEN...         4   43007C   \n",
            "1  TÉCNICA PROFESIONAL EN OPERACIÓN Y MANTENIMIEN...         4   63071C   \n",
            "2  TÉCNICA PROFESIONAL EN OPERACIÓN Y MANTENIMIEN...         4  103009C   \n",
            "3  TÉCNICA PROFESIONAL EN OPERACIÓN Y MANTENIMIEN...         4   63074C   \n",
            "4  TÉCNICA PROFESIONAL EN OPERACIÓN Y MANTENIMIEN...         4   63073C   \n",
            "\n",
            "                                     MATERIA   JORNADA  UBICACION SEMESTRAL  \\\n",
            "0                             ÁLGEBRA LINEAL  NOCTURNA                  1.0   \n",
            "1                                 ALGORITMOS  NOCTURNA                  1.0   \n",
            "2                             CÁTEDRA PENSAR  NOCTURNA                  1.0   \n",
            "3             CONSTRUCCIÓN DE BASES DE DATOS  NOCTURNA                  1.0   \n",
            "4  INTRODUCCIÓN A TECNOLOGÍAS DE INFORMACIÓN  NOCTURNA                  1.0   \n",
            "\n",
            "   PROMEDIO ACUMULADO  ...  FINAL FALLAS MOMENTO1 FALLAS MOMENTO2  \\\n",
            "0                 4.7  ...    4,9               5               1   \n",
            "1                 4.7  ...    4,8               3               1   \n",
            "2                 4.7  ...    4,2               5               5   \n",
            "3                 4.7  ...    4,6               4               1   \n",
            "4                 4.7  ...    4,9               4               2   \n",
            "\n",
            "  FALLAS MOMENTO3 TOTAL FALLAS    ESTADO  EDAD     GENERO  ESTRATO  \\\n",
            "0               5           11  APROBADO    76  Masculino        2   \n",
            "1               1            5  APROBADO    78   Femenino        4   \n",
            "2               0           10  APROBADO    58  Masculino        3   \n",
            "3               1            6  APROBADO    71  Masculino        3   \n",
            "4               3            9  APROBADO    40   Femenino        3   \n",
            "\n",
            "  LUGAR DE RESIDENCIA  \n",
            "0            Fontibón  \n",
            "1       San Cristóbal  \n",
            "2       Puente Aranda  \n",
            "3       Puente Aranda  \n",
            "4            Santa Fé  \n",
            "\n",
            "[5 rows x 24 columns]\n"
          ]
        }
      ]
    },
    {
      "cell_type": "markdown",
      "source": [
        "\n",
        "###Incialmente se sube el archivo en extensión .CSV con la data necesaria para el procesamiento de datos\n",
        "Se muestran las primeras 5 filas de cada columan del Data Frame"
      ],
      "metadata": {
        "id": "M1AHjvoxwjcZ"
      }
    },
    {
      "cell_type": "markdown",
      "source": [],
      "metadata": {
        "id": "oeTmiUbHyvli"
      }
    },
    {
      "cell_type": "markdown",
      "source": [
        "Crear y leer Data Frame para iniciar con el procesamiento de los datos"
      ],
      "metadata": {
        "id": "GKSvdRs4wykX"
      }
    },
    {
      "cell_type": "code",
      "source": [
        "\n",
        "df = pd.read_csv('datos_estudiantes.csv')\n",
        "print(df.head())"
      ],
      "metadata": {
        "colab": {
          "base_uri": "https://localhost:8080/"
        },
        "id": "9YZ8D1QDt_aV",
        "outputId": "372821b4-a1c8-4639-bd7b-6a952ddb8a67"
      },
      "execution_count": 130,
      "outputs": [
        {
          "output_type": "stream",
          "name": "stdout",
          "text": [
            "       ID    SEDE  COD. PROGRAMA  \\\n",
            "0  396007  BOGOTA           2113   \n",
            "1  396007  BOGOTA           2113   \n",
            "2  396007  BOGOTA           2113   \n",
            "3  396007  BOGOTA           2113   \n",
            "4  396007  BOGOTA           2113   \n",
            "\n",
            "                                            PROGRAMA  SEMESTRE   CÓDIGO  \\\n",
            "0  TÉCNICA PROFESIONAL EN OPERACIÓN Y MANTENIMIEN...         4   43007C   \n",
            "1  TÉCNICA PROFESIONAL EN OPERACIÓN Y MANTENIMIEN...         4   63071C   \n",
            "2  TÉCNICA PROFESIONAL EN OPERACIÓN Y MANTENIMIEN...         4  103009C   \n",
            "3  TÉCNICA PROFESIONAL EN OPERACIÓN Y MANTENIMIEN...         4   63074C   \n",
            "4  TÉCNICA PROFESIONAL EN OPERACIÓN Y MANTENIMIEN...         4   63073C   \n",
            "\n",
            "                                     MATERIA   JORNADA  UBICACION SEMESTRAL  \\\n",
            "0                             ÁLGEBRA LINEAL  NOCTURNA                  1.0   \n",
            "1                                 ALGORITMOS  NOCTURNA                  1.0   \n",
            "2                             CÁTEDRA PENSAR  NOCTURNA                  1.0   \n",
            "3             CONSTRUCCIÓN DE BASES DE DATOS  NOCTURNA                  1.0   \n",
            "4  INTRODUCCIÓN A TECNOLOGÍAS DE INFORMACIÓN  NOCTURNA                  1.0   \n",
            "\n",
            "   PROMEDIO ACUMULADO  ...  FINAL FALLAS MOMENTO1 FALLAS MOMENTO2  \\\n",
            "0                 4.7  ...    4,9               5               1   \n",
            "1                 4.7  ...    4,8               3               1   \n",
            "2                 4.7  ...    4,2               5               5   \n",
            "3                 4.7  ...    4,6               4               1   \n",
            "4                 4.7  ...    4,9               4               2   \n",
            "\n",
            "  FALLAS MOMENTO3 TOTAL FALLAS    ESTADO  EDAD     GENERO  ESTRATO  \\\n",
            "0               5           11  APROBADO    76  Masculino        2   \n",
            "1               1            5  APROBADO    78   Femenino        4   \n",
            "2               0           10  APROBADO    58  Masculino        3   \n",
            "3               1            6  APROBADO    71  Masculino        3   \n",
            "4               3            9  APROBADO    40   Femenino        3   \n",
            "\n",
            "  LUGAR DE RESIDENCIA  \n",
            "0            Fontibón  \n",
            "1       San Cristóbal  \n",
            "2       Puente Aranda  \n",
            "3       Puente Aranda  \n",
            "4            Santa Fé  \n",
            "\n",
            "[5 rows x 24 columns]\n"
          ]
        }
      ]
    },
    {
      "cell_type": "markdown",
      "source": [
        "Se muestran todas las columnas integradas en el Data Frame"
      ],
      "metadata": {
        "id": "czcKiXtexBN0"
      }
    },
    {
      "cell_type": "code",
      "source": [
        "print(df.info())"
      ],
      "metadata": {
        "colab": {
          "base_uri": "https://localhost:8080/"
        },
        "id": "2iWBdhQUxixO",
        "outputId": "a73eeb20-6094-4ed0-b342-8e0cc6c859f8"
      },
      "execution_count": 131,
      "outputs": [
        {
          "output_type": "stream",
          "name": "stdout",
          "text": [
            "<class 'pandas.core.frame.DataFrame'>\n",
            "RangeIndex: 12385 entries, 0 to 12384\n",
            "Data columns (total 24 columns):\n",
            " #   Column               Non-Null Count  Dtype  \n",
            "---  ------               --------------  -----  \n",
            " 0   ID                   12385 non-null  int64  \n",
            " 1   SEDE                 12385 non-null  object \n",
            " 2   COD. PROGRAMA        12385 non-null  int64  \n",
            " 3   PROGRAMA             12385 non-null  object \n",
            " 4   SEMESTRE             12385 non-null  int64  \n",
            " 5   CÓDIGO               12385 non-null  object \n",
            " 6   MATERIA              12385 non-null  object \n",
            " 7   JORNADA              12385 non-null  object \n",
            " 8   UBICACION SEMESTRAL  11700 non-null  float64\n",
            " 9   PROMEDIO ACUMULADO   12385 non-null  float64\n",
            " 10  PROMEDIO SEMESTRE    12385 non-null  float64\n",
            " 11  MOMENTO 1            12385 non-null  object \n",
            " 12  MOMENTO 2            12385 non-null  object \n",
            " 13  MOMENTO 3            12385 non-null  object \n",
            " 14  FINAL                12385 non-null  object \n",
            " 15  FALLAS MOMENTO1      12385 non-null  int64  \n",
            " 16  FALLAS MOMENTO2      12385 non-null  int64  \n",
            " 17  FALLAS MOMENTO3      12385 non-null  int64  \n",
            " 18  TOTAL FALLAS         12385 non-null  int64  \n",
            " 19  ESTADO               12385 non-null  object \n",
            " 20  EDAD                 12385 non-null  int64  \n",
            " 21  GENERO               12385 non-null  object \n",
            " 22  ESTRATO              12385 non-null  int64  \n",
            " 23  LUGAR DE RESIDENCIA  12385 non-null  object \n",
            "dtypes: float64(3), int64(9), object(12)\n",
            "memory usage: 2.3+ MB\n",
            "None\n"
          ]
        }
      ]
    },
    {
      "cell_type": "markdown",
      "source": [
        "Elimina las filas con valores nulos en el DataFrame df"
      ],
      "metadata": {
        "id": "qW84H2SdxTYl"
      }
    },
    {
      "cell_type": "code",
      "source": [
        "df.dropna(inplace=True)"
      ],
      "metadata": {
        "id": "5xQTxKD408Qw"
      },
      "execution_count": 132,
      "outputs": []
    },
    {
      "cell_type": "markdown",
      "source": [
        "Los valores de las variables de las columnas MOMENTO 1 y MOMENTO 2 los conviere a tipo numérico, y cualquier valor que no se pueda convertir se reemplaza por NaN. Esto es útil para limpiar los datos y preparar el DataFrame para análisis numéricos.\n",
        "\n"
      ],
      "metadata": {
        "id": "h-GRi-_czVvF"
      }
    },
    {
      "cell_type": "code",
      "source": [
        "df['MOMENTO 1'] = pd.to_numeric(df['MOMENTO 1'], errors='coerce')\n",
        "df['MOMENTO 2'] = pd.to_numeric(df['MOMENTO 2'], errors='coerce')"
      ],
      "metadata": {
        "id": "7Zx87ReQ8Cgn"
      },
      "execution_count": 149,
      "outputs": []
    },
    {
      "cell_type": "markdown",
      "source": [
        "Se imprime que tipos de datos tiene cada columan para verificar que las variables anteriores hayan cambiado de object a float"
      ],
      "metadata": {
        "id": "rtVKHEG-z7dJ"
      }
    },
    {
      "cell_type": "code",
      "source": [
        "print(\"Tipos de datos de las columnas:\")\n",
        "print(df.dtypes)"
      ],
      "metadata": {
        "colab": {
          "base_uri": "https://localhost:8080/"
        },
        "id": "Uz89NkPL8L43",
        "outputId": "d14f6323-f51a-442d-e7a3-7a0192fa3df6"
      },
      "execution_count": 156,
      "outputs": [
        {
          "output_type": "stream",
          "name": "stdout",
          "text": [
            "Tipos de datos de las columnas:\n",
            "ID                          int64\n",
            "SEDE                       object\n",
            "COD. PROGRAMA               int64\n",
            "PROGRAMA                   object\n",
            "SEMESTRE                    int64\n",
            "CÓDIGO                     object\n",
            "MATERIA                    object\n",
            "JORNADA                    object\n",
            "UBICACION SEMESTRAL       float64\n",
            "PROMEDIO ACUMULADO        float64\n",
            "PROMEDIO SEMESTRE         float64\n",
            "MOMENTO 1                 float64\n",
            "MOMENTO 2                 float64\n",
            "MOMENTO 3                  object\n",
            "FINAL                      object\n",
            "FALLAS MOMENTO1             int64\n",
            "FALLAS MOMENTO2             int64\n",
            "FALLAS MOMENTO3             int64\n",
            "TOTAL FALLAS                int64\n",
            "ESTADO                     object\n",
            "EDAD                        int64\n",
            "GENERO                     object\n",
            "ESTRATO                     int64\n",
            "LUGAR DE RESIDENCIA        object\n",
            "Probabilidad_desercion       bool\n",
            "dtype: object\n"
          ]
        }
      ]
    },
    {
      "cell_type": "markdown",
      "source": [
        "Identificar situaciones que requieren atención, como calificaciones bajas en 'MOMENTO 1' o 'MOMENTO 2' inferiores a 3.0.\n",
        "\n",
        "Identificar número de fallas que se encuentra en un rango de 3 a 5 por cada momento\n",
        "\n",
        "El resultado es un DataFrame que solo incluye las filas que cumplen con al menos una de las condiciones especificadas."
      ],
      "metadata": {
        "id": "XDw541VF0SG-"
      }
    },
    {
      "cell_type": "markdown",
      "source": [
        "Se crea un nuevo Data Frame llamado \"Alertas Tempranas\" con los registros que cumplieron las condiciones especificadas anteriormente."
      ],
      "metadata": {
        "id": "Nz5f5N7508Qq"
      }
    },
    {
      "cell_type": "code",
      "source": [
        "alertas = df[\n",
        "    (df['MOMENTO 1'] < 3.0) |\n",
        "    ((df['FALLAS MOMENTO1'] >= 3) & (df['FALLAS MOMENTO1'] <= 5)) |\n",
        "    (df['MOMENTO 2'] < 3.0) |\n",
        "    ((df['FALLAS MOMENTO2'] >= 3) & (df['FALLAS MOMENTO2'] <= 5))\n",
        "]\n"
      ],
      "metadata": {
        "id": "NMu9wXkU5sR_"
      },
      "execution_count": 157,
      "outputs": []
    },
    {
      "cell_type": "code",
      "source": [
        "print(\"DataFrame de alertas:\")\n",
        "print(alertas)"
      ],
      "metadata": {
        "colab": {
          "base_uri": "https://localhost:8080/"
        },
        "id": "1oiGUugj6Z4-",
        "outputId": "ec44d2fd-f410-4b5d-b8a5-51a18529377c"
      },
      "execution_count": 158,
      "outputs": [
        {
          "output_type": "stream",
          "name": "stdout",
          "text": [
            "DataFrame de alertas:\n",
            "           ID     SEDE  COD. PROGRAMA  \\\n",
            "0      396007   BOGOTA           2113   \n",
            "1      396007   BOGOTA           2113   \n",
            "2      396007   BOGOTA           2113   \n",
            "3      396007   BOGOTA           2113   \n",
            "4      396007   BOGOTA           2113   \n",
            "...       ...      ...            ...   \n",
            "12377  313509  VIRTUAL            236   \n",
            "12379  313509  VIRTUAL            236   \n",
            "12380  379169  VIRTUAL           2115   \n",
            "12382  379169  VIRTUAL           2115   \n",
            "12383  379169  VIRTUAL           2115   \n",
            "\n",
            "                                                PROGRAMA  SEMESTRE   CÓDIGO  \\\n",
            "0      TÉCNICA PROFESIONAL EN OPERACIÓN Y MANTENIMIEN...         4   43007C   \n",
            "1      TÉCNICA PROFESIONAL EN OPERACIÓN Y MANTENIMIEN...         4   63071C   \n",
            "2      TÉCNICA PROFESIONAL EN OPERACIÓN Y MANTENIMIEN...         4  103009C   \n",
            "3      TÉCNICA PROFESIONAL EN OPERACIÓN Y MANTENIMIEN...         4   63074C   \n",
            "4      TÉCNICA PROFESIONAL EN OPERACIÓN Y MANTENIMIEN...         4   63073C   \n",
            "...                                                  ...       ...      ...   \n",
            "12377                             INGENIERÍA DE SISTEMAS        11   83008C   \n",
            "12379                             INGENIERÍA DE SISTEMAS        11   13020C   \n",
            "12380  TÉCNICA PROFESIONAL EN OPERACIÓN Y MANTENIMIEN...         4   43002C   \n",
            "12382  TÉCNICA PROFESIONAL EN OPERACIÓN Y MANTENIMIEN...         4   63129C   \n",
            "12383  TÉCNICA PROFESIONAL EN OPERACIÓN Y MANTENIMIEN...         4  123001C   \n",
            "\n",
            "                                         MATERIA   JORNADA  \\\n",
            "0                                 ÁLGEBRA LINEAL  NOCTURNA   \n",
            "1                                     ALGORITMOS  NOCTURNA   \n",
            "2                                 CÁTEDRA PENSAR  NOCTURNA   \n",
            "3                 CONSTRUCCIÓN DE BASES DE DATOS  NOCTURNA   \n",
            "4      INTRODUCCIÓN A TECNOLOGÍAS DE INFORMACIÓN  NOCTURNA   \n",
            "...                                          ...       ...   \n",
            "12377                                   INGLES 6     UNICA   \n",
            "12379          TEORIA Y MODELOS ORGANIZACIONALES     UNICA   \n",
            "12380                        CÁLCULO DIFERENCIAL     UNICA   \n",
            "12382            LEVANTAMIENTO DE REQUERIMIENTOS     UNICA   \n",
            "12383                                 PRÁCTICA I     UNICA   \n",
            "\n",
            "       UBICACION SEMESTRAL  PROMEDIO ACUMULADO  ...  FALLAS MOMENTO1  \\\n",
            "0                      1.0                 4.7  ...                5   \n",
            "1                      1.0                 4.7  ...                3   \n",
            "2                      1.0                 4.7  ...                5   \n",
            "3                      1.0                 4.7  ...                4   \n",
            "4                      1.0                 4.7  ...                4   \n",
            "...                    ...                 ...  ...              ...   \n",
            "12377                 10.0                 4.2  ...                5   \n",
            "12379                 10.0                 4.2  ...                4   \n",
            "12380                  4.0                 4.0  ...                5   \n",
            "12382                  4.0                 4.0  ...                4   \n",
            "12383                  4.0                 4.0  ...                1   \n",
            "\n",
            "       FALLAS MOMENTO2  FALLAS MOMENTO3 TOTAL FALLAS    ESTADO  EDAD  \\\n",
            "0                    1                5           11  APROBADO    76   \n",
            "1                    1                1            5  APROBADO    78   \n",
            "2                    5                0           10  APROBADO    58   \n",
            "3                    1                1            6  APROBADO    71   \n",
            "4                    2                3            9  APROBADO    40   \n",
            "...                ...              ...          ...       ...   ...   \n",
            "12377                1                2            8  APROBADO    40   \n",
            "12379                3                5           12  APROBADO    60   \n",
            "12380                5                3           13  APROBADO    49   \n",
            "12382                3                0            7  APROBADO    57   \n",
            "12383                4                3            8  APROBADO    23   \n",
            "\n",
            "          GENERO  ESTRATO  LUGAR DE RESIDENCIA Probabilidad_desercion  \n",
            "0      Masculino        2             Fontibón                   True  \n",
            "1       Femenino        4        San Cristóbal                   True  \n",
            "2      Masculino        3        Puente Aranda                   True  \n",
            "3      Masculino        3        Puente Aranda                   True  \n",
            "4       Femenino        3             Santa Fé                   True  \n",
            "...          ...      ...                  ...                    ...  \n",
            "12377  Masculino        5                 Bosa                   True  \n",
            "12379  Masculino        5              Sumapaz                   True  \n",
            "12380   Femenino        3             Engativá                   True  \n",
            "12382   Femenino        4       Barrios Unidos                   True  \n",
            "12383  Masculino        4           Tunjuelito                   True  \n",
            "\n",
            "[8821 rows x 25 columns]\n"
          ]
        }
      ]
    },
    {
      "cell_type": "markdown",
      "source": [
        "Se crea un nuevo Data Frame llamado \"alertas_unicos\" que contendrá solo las filas con valor único por cada estudiate con su ID, eliminando las duplicados. Esto es útil para análisis posteriores donde solo necesitas considerar una instancia de cada ID"
      ],
      "metadata": {
        "id": "xshijp6u10Uj"
      }
    },
    {
      "cell_type": "code",
      "source": [
        "alertas_unicos = alertas.drop_duplicates(subset='ID')"
      ],
      "metadata": {
        "id": "a_baiIfjJYsT"
      },
      "execution_count": 159,
      "outputs": []
    },
    {
      "cell_type": "markdown",
      "source": [
        "# Muestra las alertas únicas"
      ],
      "metadata": {
        "id": "3AYLQCFjHPBx"
      }
    },
    {
      "cell_type": "code",
      "source": [
        "print(\"Alertas únicas por ID:\")\n",
        "print(alertas_unicos)"
      ],
      "metadata": {
        "colab": {
          "base_uri": "https://localhost:8080/"
        },
        "id": "AEPBIUwOJZ3J",
        "outputId": "f39aa954-ad11-4e19-c917-a42cf552405c"
      },
      "execution_count": 160,
      "outputs": [
        {
          "output_type": "stream",
          "name": "stdout",
          "text": [
            "Alertas únicas por ID:\n",
            "           ID     SEDE  COD. PROGRAMA  \\\n",
            "0      396007   BOGOTA           2113   \n",
            "6      170625   BOGOTA            234   \n",
            "7      264021   BOGOTA            232   \n",
            "13     305384   BOGOTA            227   \n",
            "19     392053   BOGOTA            217   \n",
            "...       ...      ...            ...   \n",
            "12359  376537  VIRTUAL           2115   \n",
            "12365  183720  VIRTUAL            236   \n",
            "12369  365358  VIRTUAL           2212   \n",
            "12374  313509  VIRTUAL            236   \n",
            "12380  379169  VIRTUAL           2115   \n",
            "\n",
            "                                                PROGRAMA  SEMESTRE   CÓDIGO  \\\n",
            "0      TÉCNICA PROFESIONAL EN OPERACIÓN Y MANTENIMIEN...         4   43007C   \n",
            "6                       INGENIERÍA DE TELECOMUNICACIONES        10   53007C   \n",
            "7                                 INGENIERÍA DE SISTEMAS        10   63092C   \n",
            "13     TECNOLOGÍA EN ANÁLISIS Y DESARROLLO DE SISTEMA...         7   63085C   \n",
            "19     TÉCNICA PROFESIONAL EN INSTALACIÓN DE REDES DE...         4   43007C   \n",
            "...                                                  ...       ...      ...   \n",
            "12359  TÉCNICA PROFESIONAL EN OPERACIÓN Y MANTENIMIEN...         4   63076C   \n",
            "12365                             INGENIERÍA DE SISTEMAS        11  243037C   \n",
            "12369  TECNOLOGÍA EN ANÁLISIS Y DESARROLLO DE SISTEMA...         7   63076C   \n",
            "12374                             INGENIERÍA DE SISTEMAS        11   43006C   \n",
            "12380  TÉCNICA PROFESIONAL EN OPERACIÓN Y MANTENIMIEN...         4   43002C   \n",
            "\n",
            "                        MATERIA   JORNADA  UBICACION SEMESTRAL  \\\n",
            "0                ÁLGEBRA LINEAL  NOCTURNA                  1.0   \n",
            "6         PROYECTO FIN DE GRADO  NOCTURNA                 10.0   \n",
            "7      ARQUITECTURA EMPRESARIAL  NOCTURNA                 10.0   \n",
            "13        ARQUITECTURA DE DATOS  NOCTURNA                  7.0   \n",
            "19               ÁLGEBRA LINEAL  NOCTURNA                  1.0   \n",
            "...                         ...       ...                  ...   \n",
            "12359  ARQUITECTURA DE HARDWARE     UNICA                  2.0   \n",
            "12365       INFORMATICA FORENSE     UNICA                 11.0   \n",
            "12369  ARQUITECTURA DE HARDWARE     UNICA                  4.0   \n",
            "12374         ANALISIS NUMERICO     UNICA                 10.0   \n",
            "12380       CÁLCULO DIFERENCIAL     UNICA                  4.0   \n",
            "\n",
            "       PROMEDIO ACUMULADO  ...  FALLAS MOMENTO1  FALLAS MOMENTO2  \\\n",
            "0                     4.7  ...                5                1   \n",
            "6                     3.8  ...                1                5   \n",
            "7                     4.2  ...                0                4   \n",
            "13                    3.9  ...                5                5   \n",
            "19                    4.1  ...                2                4   \n",
            "...                   ...  ...              ...              ...   \n",
            "12359                 4.6  ...                1                3   \n",
            "12365                 4.3  ...                5                1   \n",
            "12369                 2.6  ...                4                0   \n",
            "12374                 4.2  ...                3                4   \n",
            "12380                 4.0  ...                5                5   \n",
            "\n",
            "       FALLAS MOMENTO3 TOTAL FALLAS     ESTADO  EDAD     GENERO  ESTRATO  \\\n",
            "0                    5           11   APROBADO    76  Masculino        2   \n",
            "6                    2            8   APROBADO    50  Masculino        3   \n",
            "7                    0            4   APROBADO    55  Masculino        3   \n",
            "13                   5           15   APROBADO    33  Masculino        2   \n",
            "19                   2            8   APROBADO    69   Femenino        5   \n",
            "...                ...          ...        ...   ...        ...      ...   \n",
            "12359                2            6   APROBADO    46  Masculino        4   \n",
            "12365                2            8   APROBADO    62   Femenino        5   \n",
            "12369                0            4  REPROBADO    32  Masculino        4   \n",
            "12374                3           10   APROBADO    50  Masculino        2   \n",
            "12380                3           13   APROBADO    49   Femenino        3   \n",
            "\n",
            "       LUGAR DE RESIDENCIA Probabilidad_desercion  \n",
            "0                 Fontibón                   True  \n",
            "6            Puente Aranda                   True  \n",
            "7                  Kennedy                   True  \n",
            "13          Barrios Unidos                   True  \n",
            "19          Ciudad Bolívar                   True  \n",
            "...                    ...                    ...  \n",
            "12359              Usaquén                   True  \n",
            "12365          Teusaquillo                   True  \n",
            "12369              Kennedy                   True  \n",
            "12374                 Bosa                   True  \n",
            "12380             Engativá                   True  \n",
            "\n",
            "[2216 rows x 25 columns]\n"
          ]
        }
      ]
    },
    {
      "cell_type": "markdown",
      "source": [
        "Valida y numera la cantidad de estudiantes que cumplen las regla establecida para generar las alertas tempranas del primer y segundo momento de evaluación"
      ],
      "metadata": {
        "id": "Yf70YpZu3J6T"
      }
    },
    {
      "cell_type": "code",
      "source": [
        "cantidad_estudiantes = alertas_unicos['ID'].nunique()\n",
        "print(f\"\\nCantidad de estudiantes únicos que cumplen con las condiciones: {cantidad_estudiantes}\")\n"
      ],
      "metadata": {
        "colab": {
          "base_uri": "https://localhost:8080/"
        },
        "id": "nKTdDpA4JdbE",
        "outputId": "452af163-ffec-4d3a-acd0-31c86644f432"
      },
      "execution_count": 161,
      "outputs": [
        {
          "output_type": "stream",
          "name": "stdout",
          "text": [
            "\n",
            "Cantidad de estudiantes únicos que cumplen con las condiciones: 2216\n"
          ]
        }
      ]
    },
    {
      "cell_type": "markdown",
      "source": [
        "Comando para exportar el nuevo Data Frame en un archivo \"alertas_unicas.csv\" que sera utilizado en la siguiente etapa de la evaluación de la herramienta"
      ],
      "metadata": {
        "id": "8K_jd2Zd3i2g"
      }
    },
    {
      "cell_type": "code",
      "source": [
        "# Exportar el archivo CSV sin duplicados\n",
        "datos_estudiantes_csv = 'alertas_unicas.csv'\n",
        "alertas_unicos.to_csv(datos_estudiantes_csv, index=False)"
      ],
      "metadata": {
        "id": "kkxBZdDCJgb8"
      },
      "execution_count": 162,
      "outputs": []
    },
    {
      "cell_type": "code",
      "source": [
        "files.download(datos_estudiantes_csv)"
      ],
      "metadata": {
        "colab": {
          "base_uri": "https://localhost:8080/",
          "height": 17
        },
        "id": "aIkiJkHlJnoS",
        "outputId": "8ba817a4-d313-4a08-a083-7d4f93ef97d9"
      },
      "execution_count": 163,
      "outputs": [
        {
          "output_type": "display_data",
          "data": {
            "text/plain": [
              "<IPython.core.display.Javascript object>"
            ],
            "application/javascript": [
              "\n",
              "    async function download(id, filename, size) {\n",
              "      if (!google.colab.kernel.accessAllowed) {\n",
              "        return;\n",
              "      }\n",
              "      const div = document.createElement('div');\n",
              "      const label = document.createElement('label');\n",
              "      label.textContent = `Downloading \"${filename}\": `;\n",
              "      div.appendChild(label);\n",
              "      const progress = document.createElement('progress');\n",
              "      progress.max = size;\n",
              "      div.appendChild(progress);\n",
              "      document.body.appendChild(div);\n",
              "\n",
              "      const buffers = [];\n",
              "      let downloaded = 0;\n",
              "\n",
              "      const channel = await google.colab.kernel.comms.open(id);\n",
              "      // Send a message to notify the kernel that we're ready.\n",
              "      channel.send({})\n",
              "\n",
              "      for await (const message of channel.messages) {\n",
              "        // Send a message to notify the kernel that we're ready.\n",
              "        channel.send({})\n",
              "        if (message.buffers) {\n",
              "          for (const buffer of message.buffers) {\n",
              "            buffers.push(buffer);\n",
              "            downloaded += buffer.byteLength;\n",
              "            progress.value = downloaded;\n",
              "          }\n",
              "        }\n",
              "      }\n",
              "      const blob = new Blob(buffers, {type: 'application/binary'});\n",
              "      const a = document.createElement('a');\n",
              "      a.href = window.URL.createObjectURL(blob);\n",
              "      a.download = filename;\n",
              "      div.appendChild(a);\n",
              "      a.click();\n",
              "      div.remove();\n",
              "    }\n",
              "  "
            ]
          },
          "metadata": {}
        },
        {
          "output_type": "display_data",
          "data": {
            "text/plain": [
              "<IPython.core.display.Javascript object>"
            ],
            "application/javascript": [
              "download(\"download_7bc9de62-e3dd-463d-b030-78ee5956662f\", \"alertas_unicas.csv\", 406995)"
            ]
          },
          "metadata": {}
        }
      ]
    },
    {
      "cell_type": "markdown",
      "source": [
        "Código Inicial para el Modelo Predictivo"
      ],
      "metadata": {
        "id": "eQ0o8gRK0_jB"
      }
    },
    {
      "cell_type": "code",
      "source": [
        "import pandas as pd\n",
        "from sklearn.model_selection import train_test_split\n",
        "from sklearn.ensemble import RandomForestClassifier\n",
        "from sklearn.metrics import accuracy_score, classification_report"
      ],
      "metadata": {
        "id": "VlI3ZbH-05sY"
      },
      "execution_count": 164,
      "outputs": []
    },
    {
      "cell_type": "code",
      "source": [
        "import pandas as pd\n",
        "from sklearn.model_selection import train_test_split\n",
        "from sklearn.ensemble import RandomForestClassifier\n",
        "from sklearn.metrics import classification_report, confusion_matrix, accuracy_score\n",
        "from sklearn.preprocessing import LabelEncoder\n",
        "import seaborn as sns\n",
        "import matplotlib.pyplot as plt"
      ],
      "metadata": {
        "id": "asmkwfla6kIl"
      },
      "execution_count": 165,
      "outputs": []
    },
    {
      "cell_type": "code",
      "source": [
        "df = pd.read_excel('datos_estudiantes.xlsx')"
      ],
      "metadata": {
        "id": "7DmzCVwB6nuu"
      },
      "execution_count": 166,
      "outputs": []
    },
    {
      "cell_type": "code",
      "source": [
        "print(\"Primeras filas del conjunto de datos:\")\n",
        "print(df.head())\n",
        "print(\"\\nInformación general del conjunto de datos:\")\n",
        "print(df.info())"
      ],
      "metadata": {
        "colab": {
          "base_uri": "https://localhost:8080/"
        },
        "id": "OZnaWNKg6uJ2",
        "outputId": "25669db6-2ec1-4450-a6ae-12f74ea011b9"
      },
      "execution_count": 167,
      "outputs": [
        {
          "output_type": "stream",
          "name": "stdout",
          "text": [
            "Primeras filas del conjunto de datos:\n",
            "       ID    SEDE  COD. PROGRAMA  \\\n",
            "0  396007  BOGOTA           2113   \n",
            "1  396007  BOGOTA           2113   \n",
            "2  396007  BOGOTA           2113   \n",
            "3  396007  BOGOTA           2113   \n",
            "4  396007  BOGOTA           2113   \n",
            "\n",
            "                                            PROGRAMA  SEMESTRE   CÓDIGO  \\\n",
            "0  TÉCNICA PROFESIONAL EN OPERACIÓN Y MANTENIMIEN...         4   43007C   \n",
            "1  TÉCNICA PROFESIONAL EN OPERACIÓN Y MANTENIMIEN...         4   63071C   \n",
            "2  TÉCNICA PROFESIONAL EN OPERACIÓN Y MANTENIMIEN...         4  103009C   \n",
            "3  TÉCNICA PROFESIONAL EN OPERACIÓN Y MANTENIMIEN...         4   63074C   \n",
            "4  TÉCNICA PROFESIONAL EN OPERACIÓN Y MANTENIMIEN...         4   63073C   \n",
            "\n",
            "                                     MATERIA   JORNADA  UBICACION SEMESTRAL  \\\n",
            "0                             ÁLGEBRA LINEAL  NOCTURNA                  1.0   \n",
            "1                                 ALGORITMOS  NOCTURNA                  1.0   \n",
            "2                             CÁTEDRA PENSAR  NOCTURNA                  1.0   \n",
            "3             CONSTRUCCIÓN DE BASES DE DATOS  NOCTURNA                  1.0   \n",
            "4  INTRODUCCIÓN A TECNOLOGÍAS DE INFORMACIÓN  NOCTURNA                  1.0   \n",
            "\n",
            "   PROMEDIO ACUMULADO  ...  FINAL FALLAS MOMENTO1 FALLAS MOMENTO2  \\\n",
            "0                 4.7  ...    4,9               5               1   \n",
            "1                 4.7  ...    4,8               3               1   \n",
            "2                 4.7  ...    4,2               5               5   \n",
            "3                 4.7  ...    4,6               4               1   \n",
            "4                 4.7  ...    4,9               4               2   \n",
            "\n",
            "  FALLAS MOMENTO3 TOTAL FALLAS    ESTADO  EDAD     GENERO  ESTRATO  \\\n",
            "0               5           11  APROBADO    76  Masculino        2   \n",
            "1               1            5  APROBADO    78   Femenino        4   \n",
            "2               0           10  APROBADO    58  Masculino        3   \n",
            "3               1            6  APROBADO    71  Masculino        3   \n",
            "4               3            9  APROBADO    40   Femenino        3   \n",
            "\n",
            "  LUGAR DE RESIDENCIA  \n",
            "0            Fontibón  \n",
            "1       San Cristóbal  \n",
            "2       Puente Aranda  \n",
            "3       Puente Aranda  \n",
            "4            Santa Fé  \n",
            "\n",
            "[5 rows x 24 columns]\n",
            "\n",
            "Información general del conjunto de datos:\n",
            "<class 'pandas.core.frame.DataFrame'>\n",
            "RangeIndex: 12385 entries, 0 to 12384\n",
            "Data columns (total 24 columns):\n",
            " #   Column               Non-Null Count  Dtype  \n",
            "---  ------               --------------  -----  \n",
            " 0   ID                   12385 non-null  int64  \n",
            " 1   SEDE                 12385 non-null  object \n",
            " 2   COD. PROGRAMA        12385 non-null  int64  \n",
            " 3   PROGRAMA             12385 non-null  object \n",
            " 4   SEMESTRE             12385 non-null  int64  \n",
            " 5   CÓDIGO               12385 non-null  object \n",
            " 6   MATERIA              12385 non-null  object \n",
            " 7   JORNADA              12385 non-null  object \n",
            " 8   UBICACION SEMESTRAL  11700 non-null  float64\n",
            " 9   PROMEDIO ACUMULADO   12385 non-null  float64\n",
            " 10  PROMEDIO SEMESTRE    12385 non-null  float64\n",
            " 11  MOMENTO 1            12385 non-null  object \n",
            " 12  MOMENTO 2            12385 non-null  object \n",
            " 13  MOMENTO 3            12385 non-null  object \n",
            " 14  FINAL                12385 non-null  object \n",
            " 15  FALLAS MOMENTO1      12385 non-null  int64  \n",
            " 16  FALLAS MOMENTO2      12385 non-null  int64  \n",
            " 17  FALLAS MOMENTO3      12385 non-null  int64  \n",
            " 18  TOTAL FALLAS         12385 non-null  int64  \n",
            " 19  ESTADO               12385 non-null  object \n",
            " 20  EDAD                 12385 non-null  int64  \n",
            " 21  GENERO               12385 non-null  object \n",
            " 22  ESTRATO              12385 non-null  int64  \n",
            " 23  LUGAR DE RESIDENCIA  12385 non-null  object \n",
            "dtypes: float64(3), int64(9), object(12)\n",
            "memory usage: 2.3+ MB\n",
            "None\n"
          ]
        }
      ]
    },
    {
      "cell_type": "code",
      "source": [
        "categorical_columns = ['SEDE', 'PROGRAMA', 'JORNADA', 'MATERIA', 'ESTADO', 'GENERO', 'LUGAR DE RESIDENCIA']\n",
        "le = LabelEncoder()\n",
        "for col in categorical_columns:\n",
        "    df[col] = le.fit_transform(df[col].astype(str))"
      ],
      "metadata": {
        "id": "_VJnaXuQ9U7o"
      },
      "execution_count": 168,
      "outputs": []
    },
    {
      "source": [
        "import pandas as pd\n",
        "import numpy as np\n",
        "\n",
        "for col in ['MOMENTO 1', 'MOMENTO 2', 'MOMENTO 3', 'FINAL']:\n",
        "    # Reemplazar guiones con NaN\n",
        "    df[col] = df[col].replace('-', np.nan, regex=True)\n",
        "    # Reemplazar comas por puntos y convertir a float\n",
        "    df[col] = df[col].str.replace(',', '.', regex=True).astype(float)"
      ],
      "cell_type": "code",
      "metadata": {
        "id": "VLfsF2aE8RBN"
      },
      "execution_count": 169,
      "outputs": []
    },
    {
      "source": [
        "import pandas as pd\n",
        "import numpy as np\n",
        "\n",
        "for col in ['MOMENTO 1', 'MOMENTO 2', 'MOMENTO 3', 'FINAL']:\n",
        "    # Reemplazar guiones con NaN\n",
        "    df[col] = df[col].replace('-', np.nan, regex=True)\n",
        "    # Convertir la columna a tipo cadena antes de usar .str.replace\n",
        "    df[col] = df[col].astype(str).str.replace(',', '.', regex=True).astype(float)\n",
        "    #Reemplazamos la , por . y convertimos la columna a float."
      ],
      "cell_type": "code",
      "metadata": {
        "id": "rrNA9J5_9fo1"
      },
      "execution_count": 170,
      "outputs": []
    },
    {
      "cell_type": "code",
      "source": [
        "X = df.drop(columns=['ESTADO'])\n",
        "y = df['ESTADO']"
      ],
      "metadata": {
        "id": "YJh0k4Li_Nh0"
      },
      "execution_count": 171,
      "outputs": []
    },
    {
      "cell_type": "code",
      "source": [
        "X_train, X_test, y_train, y_test = train_test_split(X, y, test_size=0.2, random_state=42)"
      ],
      "metadata": {
        "id": "-H6pEYrj_PMl"
      },
      "execution_count": 172,
      "outputs": []
    },
    {
      "source": [
        "import pandas as pd\n",
        "import numpy as np\n",
        "import re\n",
        "\n",
        "# Función para extraer el valor numérico\n",
        "def extract_number(value):\n",
        "    try:\n",
        "        # Busca números con o sin decimales al inicio de la cadena\n",
        "        number = re.search(r\"^\\d+(\\.\\d+)?\", str(value)).group(0)\n",
        "        return float(number)\n",
        "    except (AttributeError, TypeError):\n",
        "        # Si no encuentra un número, retorna NaN\n",
        "        return np.nan\n",
        "\n",
        "# Aplicar la función a las columnas relevantes de tu DataFrame\n",
        "for col in ['MOMENTO 1', 'MOMENTO 2', 'MOMENTO 3', 'FINAL']:\n",
        "    df[col] = df[col].apply(extract_number)\n",
        "\n",
        "# Resto de tu código..."
      ],
      "cell_type": "code",
      "metadata": {
        "id": "txvYEvGGA5i8"
      },
      "execution_count": 173,
      "outputs": []
    },
    {
      "cell_type": "code",
      "source": [
        "from sklearn.ensemble import RandomForestClassifier\n",
        "from sklearn.model_selection import train_test_split"
      ],
      "metadata": {
        "id": "ytCe1-cdBiPF"
      },
      "execution_count": 174,
      "outputs": []
    },
    {
      "cell_type": "code",
      "source": [
        "X_train, X_test, y_train, y_test = train_test_split(X, y, test_size=0.2, random_state=42)"
      ],
      "metadata": {
        "id": "5O0nIjR4Bjvs"
      },
      "execution_count": 175,
      "outputs": []
    },
    {
      "cell_type": "code",
      "source": [
        "X_train, X_test, y_train, y_test = train_test_split(X, y, test_size=0.2, random_state=42)"
      ],
      "metadata": {
        "id": "k2j2tz_qCNy4"
      },
      "execution_count": 176,
      "outputs": []
    },
    {
      "source": [
        "for columna in X.columns:\n",
        "    if X[columna].dtype == 'object': # Busca columnas con tipo de dato 'object' (texto)\n",
        "        if '43006C' in X[columna].values:\n",
        "            print(f\"La columna '{columna}' contiene el valor '43006C'\")\n",
        "            break"
      ],
      "cell_type": "code",
      "metadata": {
        "colab": {
          "base_uri": "https://localhost:8080/"
        },
        "id": "idQINO7OC3Ak",
        "outputId": "485aa2e2-f1d5-4509-a60e-fceaa331de2c"
      },
      "execution_count": 177,
      "outputs": [
        {
          "output_type": "stream",
          "name": "stdout",
          "text": [
            "La columna 'CÓDIGO' contiene el valor '43006C'\n"
          ]
        }
      ]
    },
    {
      "source": [
        "import pandas as pd\n",
        "from sklearn.model_selection import train_test_split\n",
        "from sklearn.ensemble import RandomForestClassifier\n",
        "\n",
        "# Identificar la columna que contiene '43006C' (o cualquier valor con 'C')\n",
        "for columna in X.columns:\n",
        "    if X[columna].dtype == 'object':\n",
        "        if any(X[columna].astype(str).str.contains('C')):  # Verificar si algún valor contiene 'C'\n",
        "            print(f\"La columna '{columna}' contiene valores con 'C'\")\n",
        "            columna_con_c = columna\n",
        "            break\n",
        "else:\n",
        "    columna_con_c = None  # Si no se encuentra ninguna columna con 'C'\n",
        "\n",
        "# Verificar si se encontró una columna con 'C' antes de continuar\n",
        "if columna_con_c is not None:  # <--  Agregar esta condición\n",
        "    # Eliminar la 'C' de los valores en la columna identificada\n",
        "    X[columna_con_c] = X[columna_con_c].astype(str).str.replace('C', '')\n",
        "    print(f\"Se ha eliminado la 'C' de la columna '{columna_con_c}'\")\n",
        "\n",
        "    # Convertir la columna a numérica si es necesario\n",
        "    try:\n",
        "        X[columna_con_c] = pd.to_numeric(X[columna_con_c])\n",
        "    except ValueError:\n",
        "        print(f\"La columna '{columna_con_c}' aún contiene valores no numéricos después de eliminar la 'C'. \"\n",
        "              f\"Puede que necesites realizar una limpieza adicional.\")\n",
        "\n",
        "# Dividir los datos en conjuntos de entrenamiento y prueba\n",
        "X_train, X_test, y_train, y_test = train_test_split(X, y, test_size=0.2, random_state=42)\n",
        "\n",
        "# Crear y entrenar el modelo\n",
        "modelo_rf = RandomForestClassifier(n_estimators=100, random_state=42)\n",
        "modelo_rf.fit(X_train, y_train)"
      ],
      "cell_type": "code",
      "metadata": {
        "colab": {
          "base_uri": "https://localhost:8080/",
          "height": 115
        },
        "id": "AdPO0t77xUtU",
        "outputId": "a8905662-051c-4e78-86b1-ac511d5758fb"
      },
      "execution_count": 178,
      "outputs": [
        {
          "output_type": "stream",
          "name": "stdout",
          "text": [
            "La columna 'CÓDIGO' contiene valores con 'C'\n",
            "Se ha eliminado la 'C' de la columna 'CÓDIGO'\n"
          ]
        },
        {
          "output_type": "execute_result",
          "data": {
            "text/plain": [
              "RandomForestClassifier(random_state=42)"
            ],
            "text/html": [
              "<style>#sk-container-id-3 {\n",
              "  /* Definition of color scheme common for light and dark mode */\n",
              "  --sklearn-color-text: black;\n",
              "  --sklearn-color-line: gray;\n",
              "  /* Definition of color scheme for unfitted estimators */\n",
              "  --sklearn-color-unfitted-level-0: #fff5e6;\n",
              "  --sklearn-color-unfitted-level-1: #f6e4d2;\n",
              "  --sklearn-color-unfitted-level-2: #ffe0b3;\n",
              "  --sklearn-color-unfitted-level-3: chocolate;\n",
              "  /* Definition of color scheme for fitted estimators */\n",
              "  --sklearn-color-fitted-level-0: #f0f8ff;\n",
              "  --sklearn-color-fitted-level-1: #d4ebff;\n",
              "  --sklearn-color-fitted-level-2: #b3dbfd;\n",
              "  --sklearn-color-fitted-level-3: cornflowerblue;\n",
              "\n",
              "  /* Specific color for light theme */\n",
              "  --sklearn-color-text-on-default-background: var(--sg-text-color, var(--theme-code-foreground, var(--jp-content-font-color1, black)));\n",
              "  --sklearn-color-background: var(--sg-background-color, var(--theme-background, var(--jp-layout-color0, white)));\n",
              "  --sklearn-color-border-box: var(--sg-text-color, var(--theme-code-foreground, var(--jp-content-font-color1, black)));\n",
              "  --sklearn-color-icon: #696969;\n",
              "\n",
              "  @media (prefers-color-scheme: dark) {\n",
              "    /* Redefinition of color scheme for dark theme */\n",
              "    --sklearn-color-text-on-default-background: var(--sg-text-color, var(--theme-code-foreground, var(--jp-content-font-color1, white)));\n",
              "    --sklearn-color-background: var(--sg-background-color, var(--theme-background, var(--jp-layout-color0, #111)));\n",
              "    --sklearn-color-border-box: var(--sg-text-color, var(--theme-code-foreground, var(--jp-content-font-color1, white)));\n",
              "    --sklearn-color-icon: #878787;\n",
              "  }\n",
              "}\n",
              "\n",
              "#sk-container-id-3 {\n",
              "  color: var(--sklearn-color-text);\n",
              "}\n",
              "\n",
              "#sk-container-id-3 pre {\n",
              "  padding: 0;\n",
              "}\n",
              "\n",
              "#sk-container-id-3 input.sk-hidden--visually {\n",
              "  border: 0;\n",
              "  clip: rect(1px 1px 1px 1px);\n",
              "  clip: rect(1px, 1px, 1px, 1px);\n",
              "  height: 1px;\n",
              "  margin: -1px;\n",
              "  overflow: hidden;\n",
              "  padding: 0;\n",
              "  position: absolute;\n",
              "  width: 1px;\n",
              "}\n",
              "\n",
              "#sk-container-id-3 div.sk-dashed-wrapped {\n",
              "  border: 1px dashed var(--sklearn-color-line);\n",
              "  margin: 0 0.4em 0.5em 0.4em;\n",
              "  box-sizing: border-box;\n",
              "  padding-bottom: 0.4em;\n",
              "  background-color: var(--sklearn-color-background);\n",
              "}\n",
              "\n",
              "#sk-container-id-3 div.sk-container {\n",
              "  /* jupyter's `normalize.less` sets `[hidden] { display: none; }`\n",
              "     but bootstrap.min.css set `[hidden] { display: none !important; }`\n",
              "     so we also need the `!important` here to be able to override the\n",
              "     default hidden behavior on the sphinx rendered scikit-learn.org.\n",
              "     See: https://github.com/scikit-learn/scikit-learn/issues/21755 */\n",
              "  display: inline-block !important;\n",
              "  position: relative;\n",
              "}\n",
              "\n",
              "#sk-container-id-3 div.sk-text-repr-fallback {\n",
              "  display: none;\n",
              "}\n",
              "\n",
              "div.sk-parallel-item,\n",
              "div.sk-serial,\n",
              "div.sk-item {\n",
              "  /* draw centered vertical line to link estimators */\n",
              "  background-image: linear-gradient(var(--sklearn-color-text-on-default-background), var(--sklearn-color-text-on-default-background));\n",
              "  background-size: 2px 100%;\n",
              "  background-repeat: no-repeat;\n",
              "  background-position: center center;\n",
              "}\n",
              "\n",
              "/* Parallel-specific style estimator block */\n",
              "\n",
              "#sk-container-id-3 div.sk-parallel-item::after {\n",
              "  content: \"\";\n",
              "  width: 100%;\n",
              "  border-bottom: 2px solid var(--sklearn-color-text-on-default-background);\n",
              "  flex-grow: 1;\n",
              "}\n",
              "\n",
              "#sk-container-id-3 div.sk-parallel {\n",
              "  display: flex;\n",
              "  align-items: stretch;\n",
              "  justify-content: center;\n",
              "  background-color: var(--sklearn-color-background);\n",
              "  position: relative;\n",
              "}\n",
              "\n",
              "#sk-container-id-3 div.sk-parallel-item {\n",
              "  display: flex;\n",
              "  flex-direction: column;\n",
              "}\n",
              "\n",
              "#sk-container-id-3 div.sk-parallel-item:first-child::after {\n",
              "  align-self: flex-end;\n",
              "  width: 50%;\n",
              "}\n",
              "\n",
              "#sk-container-id-3 div.sk-parallel-item:last-child::after {\n",
              "  align-self: flex-start;\n",
              "  width: 50%;\n",
              "}\n",
              "\n",
              "#sk-container-id-3 div.sk-parallel-item:only-child::after {\n",
              "  width: 0;\n",
              "}\n",
              "\n",
              "/* Serial-specific style estimator block */\n",
              "\n",
              "#sk-container-id-3 div.sk-serial {\n",
              "  display: flex;\n",
              "  flex-direction: column;\n",
              "  align-items: center;\n",
              "  background-color: var(--sklearn-color-background);\n",
              "  padding-right: 1em;\n",
              "  padding-left: 1em;\n",
              "}\n",
              "\n",
              "\n",
              "/* Toggleable style: style used for estimator/Pipeline/ColumnTransformer box that is\n",
              "clickable and can be expanded/collapsed.\n",
              "- Pipeline and ColumnTransformer use this feature and define the default style\n",
              "- Estimators will overwrite some part of the style using the `sk-estimator` class\n",
              "*/\n",
              "\n",
              "/* Pipeline and ColumnTransformer style (default) */\n",
              "\n",
              "#sk-container-id-3 div.sk-toggleable {\n",
              "  /* Default theme specific background. It is overwritten whether we have a\n",
              "  specific estimator or a Pipeline/ColumnTransformer */\n",
              "  background-color: var(--sklearn-color-background);\n",
              "}\n",
              "\n",
              "/* Toggleable label */\n",
              "#sk-container-id-3 label.sk-toggleable__label {\n",
              "  cursor: pointer;\n",
              "  display: block;\n",
              "  width: 100%;\n",
              "  margin-bottom: 0;\n",
              "  padding: 0.5em;\n",
              "  box-sizing: border-box;\n",
              "  text-align: center;\n",
              "}\n",
              "\n",
              "#sk-container-id-3 label.sk-toggleable__label-arrow:before {\n",
              "  /* Arrow on the left of the label */\n",
              "  content: \"▸\";\n",
              "  float: left;\n",
              "  margin-right: 0.25em;\n",
              "  color: var(--sklearn-color-icon);\n",
              "}\n",
              "\n",
              "#sk-container-id-3 label.sk-toggleable__label-arrow:hover:before {\n",
              "  color: var(--sklearn-color-text);\n",
              "}\n",
              "\n",
              "/* Toggleable content - dropdown */\n",
              "\n",
              "#sk-container-id-3 div.sk-toggleable__content {\n",
              "  max-height: 0;\n",
              "  max-width: 0;\n",
              "  overflow: hidden;\n",
              "  text-align: left;\n",
              "  /* unfitted */\n",
              "  background-color: var(--sklearn-color-unfitted-level-0);\n",
              "}\n",
              "\n",
              "#sk-container-id-3 div.sk-toggleable__content.fitted {\n",
              "  /* fitted */\n",
              "  background-color: var(--sklearn-color-fitted-level-0);\n",
              "}\n",
              "\n",
              "#sk-container-id-3 div.sk-toggleable__content pre {\n",
              "  margin: 0.2em;\n",
              "  border-radius: 0.25em;\n",
              "  color: var(--sklearn-color-text);\n",
              "  /* unfitted */\n",
              "  background-color: var(--sklearn-color-unfitted-level-0);\n",
              "}\n",
              "\n",
              "#sk-container-id-3 div.sk-toggleable__content.fitted pre {\n",
              "  /* unfitted */\n",
              "  background-color: var(--sklearn-color-fitted-level-0);\n",
              "}\n",
              "\n",
              "#sk-container-id-3 input.sk-toggleable__control:checked~div.sk-toggleable__content {\n",
              "  /* Expand drop-down */\n",
              "  max-height: 200px;\n",
              "  max-width: 100%;\n",
              "  overflow: auto;\n",
              "}\n",
              "\n",
              "#sk-container-id-3 input.sk-toggleable__control:checked~label.sk-toggleable__label-arrow:before {\n",
              "  content: \"▾\";\n",
              "}\n",
              "\n",
              "/* Pipeline/ColumnTransformer-specific style */\n",
              "\n",
              "#sk-container-id-3 div.sk-label input.sk-toggleable__control:checked~label.sk-toggleable__label {\n",
              "  color: var(--sklearn-color-text);\n",
              "  background-color: var(--sklearn-color-unfitted-level-2);\n",
              "}\n",
              "\n",
              "#sk-container-id-3 div.sk-label.fitted input.sk-toggleable__control:checked~label.sk-toggleable__label {\n",
              "  background-color: var(--sklearn-color-fitted-level-2);\n",
              "}\n",
              "\n",
              "/* Estimator-specific style */\n",
              "\n",
              "/* Colorize estimator box */\n",
              "#sk-container-id-3 div.sk-estimator input.sk-toggleable__control:checked~label.sk-toggleable__label {\n",
              "  /* unfitted */\n",
              "  background-color: var(--sklearn-color-unfitted-level-2);\n",
              "}\n",
              "\n",
              "#sk-container-id-3 div.sk-estimator.fitted input.sk-toggleable__control:checked~label.sk-toggleable__label {\n",
              "  /* fitted */\n",
              "  background-color: var(--sklearn-color-fitted-level-2);\n",
              "}\n",
              "\n",
              "#sk-container-id-3 div.sk-label label.sk-toggleable__label,\n",
              "#sk-container-id-3 div.sk-label label {\n",
              "  /* The background is the default theme color */\n",
              "  color: var(--sklearn-color-text-on-default-background);\n",
              "}\n",
              "\n",
              "/* On hover, darken the color of the background */\n",
              "#sk-container-id-3 div.sk-label:hover label.sk-toggleable__label {\n",
              "  color: var(--sklearn-color-text);\n",
              "  background-color: var(--sklearn-color-unfitted-level-2);\n",
              "}\n",
              "\n",
              "/* Label box, darken color on hover, fitted */\n",
              "#sk-container-id-3 div.sk-label.fitted:hover label.sk-toggleable__label.fitted {\n",
              "  color: var(--sklearn-color-text);\n",
              "  background-color: var(--sklearn-color-fitted-level-2);\n",
              "}\n",
              "\n",
              "/* Estimator label */\n",
              "\n",
              "#sk-container-id-3 div.sk-label label {\n",
              "  font-family: monospace;\n",
              "  font-weight: bold;\n",
              "  display: inline-block;\n",
              "  line-height: 1.2em;\n",
              "}\n",
              "\n",
              "#sk-container-id-3 div.sk-label-container {\n",
              "  text-align: center;\n",
              "}\n",
              "\n",
              "/* Estimator-specific */\n",
              "#sk-container-id-3 div.sk-estimator {\n",
              "  font-family: monospace;\n",
              "  border: 1px dotted var(--sklearn-color-border-box);\n",
              "  border-radius: 0.25em;\n",
              "  box-sizing: border-box;\n",
              "  margin-bottom: 0.5em;\n",
              "  /* unfitted */\n",
              "  background-color: var(--sklearn-color-unfitted-level-0);\n",
              "}\n",
              "\n",
              "#sk-container-id-3 div.sk-estimator.fitted {\n",
              "  /* fitted */\n",
              "  background-color: var(--sklearn-color-fitted-level-0);\n",
              "}\n",
              "\n",
              "/* on hover */\n",
              "#sk-container-id-3 div.sk-estimator:hover {\n",
              "  /* unfitted */\n",
              "  background-color: var(--sklearn-color-unfitted-level-2);\n",
              "}\n",
              "\n",
              "#sk-container-id-3 div.sk-estimator.fitted:hover {\n",
              "  /* fitted */\n",
              "  background-color: var(--sklearn-color-fitted-level-2);\n",
              "}\n",
              "\n",
              "/* Specification for estimator info (e.g. \"i\" and \"?\") */\n",
              "\n",
              "/* Common style for \"i\" and \"?\" */\n",
              "\n",
              ".sk-estimator-doc-link,\n",
              "a:link.sk-estimator-doc-link,\n",
              "a:visited.sk-estimator-doc-link {\n",
              "  float: right;\n",
              "  font-size: smaller;\n",
              "  line-height: 1em;\n",
              "  font-family: monospace;\n",
              "  background-color: var(--sklearn-color-background);\n",
              "  border-radius: 1em;\n",
              "  height: 1em;\n",
              "  width: 1em;\n",
              "  text-decoration: none !important;\n",
              "  margin-left: 1ex;\n",
              "  /* unfitted */\n",
              "  border: var(--sklearn-color-unfitted-level-1) 1pt solid;\n",
              "  color: var(--sklearn-color-unfitted-level-1);\n",
              "}\n",
              "\n",
              ".sk-estimator-doc-link.fitted,\n",
              "a:link.sk-estimator-doc-link.fitted,\n",
              "a:visited.sk-estimator-doc-link.fitted {\n",
              "  /* fitted */\n",
              "  border: var(--sklearn-color-fitted-level-1) 1pt solid;\n",
              "  color: var(--sklearn-color-fitted-level-1);\n",
              "}\n",
              "\n",
              "/* On hover */\n",
              "div.sk-estimator:hover .sk-estimator-doc-link:hover,\n",
              ".sk-estimator-doc-link:hover,\n",
              "div.sk-label-container:hover .sk-estimator-doc-link:hover,\n",
              ".sk-estimator-doc-link:hover {\n",
              "  /* unfitted */\n",
              "  background-color: var(--sklearn-color-unfitted-level-3);\n",
              "  color: var(--sklearn-color-background);\n",
              "  text-decoration: none;\n",
              "}\n",
              "\n",
              "div.sk-estimator.fitted:hover .sk-estimator-doc-link.fitted:hover,\n",
              ".sk-estimator-doc-link.fitted:hover,\n",
              "div.sk-label-container:hover .sk-estimator-doc-link.fitted:hover,\n",
              ".sk-estimator-doc-link.fitted:hover {\n",
              "  /* fitted */\n",
              "  background-color: var(--sklearn-color-fitted-level-3);\n",
              "  color: var(--sklearn-color-background);\n",
              "  text-decoration: none;\n",
              "}\n",
              "\n",
              "/* Span, style for the box shown on hovering the info icon */\n",
              ".sk-estimator-doc-link span {\n",
              "  display: none;\n",
              "  z-index: 9999;\n",
              "  position: relative;\n",
              "  font-weight: normal;\n",
              "  right: .2ex;\n",
              "  padding: .5ex;\n",
              "  margin: .5ex;\n",
              "  width: min-content;\n",
              "  min-width: 20ex;\n",
              "  max-width: 50ex;\n",
              "  color: var(--sklearn-color-text);\n",
              "  box-shadow: 2pt 2pt 4pt #999;\n",
              "  /* unfitted */\n",
              "  background: var(--sklearn-color-unfitted-level-0);\n",
              "  border: .5pt solid var(--sklearn-color-unfitted-level-3);\n",
              "}\n",
              "\n",
              ".sk-estimator-doc-link.fitted span {\n",
              "  /* fitted */\n",
              "  background: var(--sklearn-color-fitted-level-0);\n",
              "  border: var(--sklearn-color-fitted-level-3);\n",
              "}\n",
              "\n",
              ".sk-estimator-doc-link:hover span {\n",
              "  display: block;\n",
              "}\n",
              "\n",
              "/* \"?\"-specific style due to the `<a>` HTML tag */\n",
              "\n",
              "#sk-container-id-3 a.estimator_doc_link {\n",
              "  float: right;\n",
              "  font-size: 1rem;\n",
              "  line-height: 1em;\n",
              "  font-family: monospace;\n",
              "  background-color: var(--sklearn-color-background);\n",
              "  border-radius: 1rem;\n",
              "  height: 1rem;\n",
              "  width: 1rem;\n",
              "  text-decoration: none;\n",
              "  /* unfitted */\n",
              "  color: var(--sklearn-color-unfitted-level-1);\n",
              "  border: var(--sklearn-color-unfitted-level-1) 1pt solid;\n",
              "}\n",
              "\n",
              "#sk-container-id-3 a.estimator_doc_link.fitted {\n",
              "  /* fitted */\n",
              "  border: var(--sklearn-color-fitted-level-1) 1pt solid;\n",
              "  color: var(--sklearn-color-fitted-level-1);\n",
              "}\n",
              "\n",
              "/* On hover */\n",
              "#sk-container-id-3 a.estimator_doc_link:hover {\n",
              "  /* unfitted */\n",
              "  background-color: var(--sklearn-color-unfitted-level-3);\n",
              "  color: var(--sklearn-color-background);\n",
              "  text-decoration: none;\n",
              "}\n",
              "\n",
              "#sk-container-id-3 a.estimator_doc_link.fitted:hover {\n",
              "  /* fitted */\n",
              "  background-color: var(--sklearn-color-fitted-level-3);\n",
              "}\n",
              "</style><div id=\"sk-container-id-3\" class=\"sk-top-container\"><div class=\"sk-text-repr-fallback\"><pre>RandomForestClassifier(random_state=42)</pre><b>In a Jupyter environment, please rerun this cell to show the HTML representation or trust the notebook. <br />On GitHub, the HTML representation is unable to render, please try loading this page with nbviewer.org.</b></div><div class=\"sk-container\" hidden><div class=\"sk-item\"><div class=\"sk-estimator fitted sk-toggleable\"><input class=\"sk-toggleable__control sk-hidden--visually\" id=\"sk-estimator-id-3\" type=\"checkbox\" checked><label for=\"sk-estimator-id-3\" class=\"sk-toggleable__label fitted sk-toggleable__label-arrow fitted\">&nbsp;&nbsp;RandomForestClassifier<a class=\"sk-estimator-doc-link fitted\" rel=\"noreferrer\" target=\"_blank\" href=\"https://scikit-learn.org/1.5/modules/generated/sklearn.ensemble.RandomForestClassifier.html\">?<span>Documentation for RandomForestClassifier</span></a><span class=\"sk-estimator-doc-link fitted\">i<span>Fitted</span></span></label><div class=\"sk-toggleable__content fitted\"><pre>RandomForestClassifier(random_state=42)</pre></div> </div></div></div></div>"
            ]
          },
          "metadata": {},
          "execution_count": 178
        }
      ]
    },
    {
      "cell_type": "code",
      "source": [
        "predicciones = modelo_rf.predict(X_test)"
      ],
      "metadata": {
        "id": "L8JVkxXDD8nE"
      },
      "execution_count": 179,
      "outputs": []
    },
    {
      "cell_type": "code",
      "source": [],
      "metadata": {
        "id": "bwt8QD6UD-k8"
      },
      "execution_count": 38,
      "outputs": []
    },
    {
      "cell_type": "code",
      "source": [
        "from sklearn.metrics import accuracy_score\n",
        "precision = accuracy_score(y_test, predicciones)\n",
        "print(f\"Precisión del modelo: {precision}\")"
      ],
      "metadata": {
        "colab": {
          "base_uri": "https://localhost:8080/"
        },
        "id": "0aRQZJiWEBfA",
        "outputId": "a1915faa-17c8-4584-dbd3-4bf724ae26e2"
      },
      "execution_count": 180,
      "outputs": [
        {
          "output_type": "stream",
          "name": "stdout",
          "text": [
            "Precisión del modelo: 0.9987888574888979\n"
          ]
        }
      ]
    },
    {
      "cell_type": "code",
      "source": [],
      "metadata": {
        "id": "cgX8MYG0Fx4V"
      },
      "execution_count": 40,
      "outputs": []
    },
    {
      "source": [
        "import pandas as pd\n",
        "from sklearn.model_selection import train_test_split\n",
        "from sklearn.ensemble import RandomForestClassifier\n",
        "from sklearn.metrics import accuracy_score, precision_score, recall_score, f1_score, confusion_matrix\n",
        "import matplotlib.pyplot as plt\n",
        "import seaborn as sns\n",
        "\n",
        "# ... (Código anterior para limpiar los datos y entrenar el modelo) ...\n",
        "\n",
        "# Hacer predicciones sobre los datos de prueba\n",
        "predicciones = modelo_rf.predict(X_test)\n",
        "\n",
        "# Calcular las métricas\n",
        "precision = accuracy_score(y_test, predicciones)\n",
        "precision_positiva = precision_score(y_test, predicciones)\n",
        "sensibilidad = recall_score(y_test, predicciones)\n",
        "f1 = f1_score(y_test, predicciones)\n",
        "\n",
        "# Imprimir las métricas\n",
        "print(f\"Precisión: {precision}\")\n",
        "print(f\"Precisión (positiva): {precision_positiva}\")\n",
        "print(f\"Sensibilidad (Recall): {sensibilidad}\")\n",
        "print(f\"Puntuación F1: {f1}\")\n",
        "\n",
        "# Crear la matriz de confusión\n",
        "matriz_confusion = confusion_matrix(y_test, predicciones)\n",
        "\n",
        "# Mostrar la matriz de confusión con Seaborn\n",
        "plt.figure(figsize=(8, 6))\n",
        "sns.heatmap(matriz_confusion, annot=True, fmt=\"d\", cmap=\"Blues\",\n",
        "            xticklabels=[\"Clase 0 (Predicha)\", \"Clase 1 (Predicha)\"],\n",
        "            yticklabels=[\"Clase 0 (Real)\", \"Clase 1 (Real)\"])\n",
        "plt.title(\"Matriz de Confusión\")\n",
        "plt.xlabel(\"Clase Predicha\")\n",
        "plt.ylabel(\"Clase Real\")\n",
        "plt.show()"
      ],
      "cell_type": "code",
      "metadata": {
        "colab": {
          "base_uri": "https://localhost:8080/",
          "height": 633
        },
        "id": "zhotaZUZGG2L",
        "outputId": "f5f86492-7d0e-4102-85f8-6efe95a6f9a6"
      },
      "execution_count": 181,
      "outputs": [
        {
          "output_type": "stream",
          "name": "stdout",
          "text": [
            "Precisión: 0.9987888574888979\n",
            "Precisión (positiva): 0.9934640522875817\n",
            "Sensibilidad (Recall): 1.0\n",
            "Puntuación F1: 0.9967213114754099\n"
          ]
        },
        {
          "output_type": "display_data",
          "data": {
            "text/plain": [
              "<Figure size 800x600 with 2 Axes>"
            ],
            "image/png": "[encoded data removed]"
          },
          "metadata": {}
        }
      ]
    },
    {
      "cell_type": "code",
      "source": [],
      "metadata": {
        "id": "I3MkIzG0OVvx"
      },
      "execution_count": 41,
      "outputs": []
    },
    {
      "cell_type": "code",
      "source": [
        "print(classification_report(y_test, y_pred))"
      ],
      "metadata": {
        "colab": {
          "base_uri": "https://localhost:8080/"
        },
        "id": "ZyB-ZLK-uuKm",
        "outputId": "bddbe94b-58c4-46c7-a6f8-068126e3441d"
      },
      "execution_count": 182,
      "outputs": [
        {
          "output_type": "stream",
          "name": "stdout",
          "text": [
            "              precision    recall  f1-score   support\n",
            "\n",
            "           0       1.00      1.00      1.00      2021\n",
            "           1       0.99      1.00      1.00       456\n",
            "\n",
            "    accuracy                           1.00      2477\n",
            "   macro avg       1.00      1.00      1.00      2477\n",
            "weighted avg       1.00      1.00      1.00      2477\n",
            "\n"
          ]
        }
      ]
    },
    {
      "cell_type": "code",
      "source": [
        "probas = modelo_rf.predict_proba(X_test)[:, 1]"
      ],
      "metadata": {
        "id": "wBtMiJtDTKU5"
      },
      "execution_count": 183,
      "outputs": []
    },
    {
      "cell_type": "code",
      "source": [
        "umbral = 0.7\n",
        "alto_riesgo = probas > umbral"
      ],
      "metadata": {
        "id": "IFjv7OGCTQcL"
      },
      "execution_count": 184,
      "outputs": []
    },
    {
      "cell_type": "code",
      "source": [
        "df = pd.DataFrame({\n",
        "        'proba': probas,\n",
        "    'alto_riesgo': alto_riesgo})\n",
        ""
      ],
      "metadata": {
        "id": "z9XeC9qnvO3W"
      },
      "execution_count": 185,
      "outputs": []
    },
    {
      "cell_type": "code",
      "source": [
        "print(df)\n",
        "\n",
        "# Visualizar los nombres de las columnas del DataFrame\n",
        "print(\"\\nNombres de las columnas:\")\n",
        "print(df.columns)"
      ],
      "metadata": {
        "colab": {
          "base_uri": "https://localhost:8080/"
        },
        "id": "ph3fxu6XvT3m",
        "outputId": "64dea4b1-0540-4db8-ee41-df024e8d70ea"
      },
      "execution_count": 186,
      "outputs": [
        {
          "output_type": "stream",
          "name": "stdout",
          "text": [
            "      proba  alto_riesgo\n",
            "0      0.98         True\n",
            "1      0.00        False\n",
            "2      1.00         True\n",
            "3      0.00        False\n",
            "4      0.00        False\n",
            "...     ...          ...\n",
            "2472   0.00        False\n",
            "2473   0.00        False\n",
            "2474   0.00        False\n",
            "2475   0.00        False\n",
            "2476   0.00        False\n",
            "\n",
            "[2477 rows x 2 columns]\n",
            "\n",
            "Nombres de las columnas:\n",
            "Index(['proba', 'alto_riesgo'], dtype='object')\n"
          ]
        }
      ]
    },
    {
      "source": [
        "filename = 'alertas_unicas.csv'"
      ],
      "cell_type": "code",
      "metadata": {
        "id": "h1iKdYz_zbUN"
      },
      "execution_count": 189,
      "outputs": []
    },
    {
      "cell_type": "code",
      "source": [
        "df = pd.read_csv('alertas_unicas.csv')\n",
        "print(df.head())"
      ],
      "metadata": {
        "colab": {
          "base_uri": "https://localhost:8080/"
        },
        "id": "mAufts4WCzTr",
        "outputId": "4ffc5fee-7e59-4e02-dcbe-fb149b42f653"
      },
      "execution_count": 190,
      "outputs": [
        {
          "output_type": "stream",
          "name": "stdout",
          "text": [
            "       ID    SEDE  COD. PROGRAMA  \\\n",
            "0  396007  BOGOTA           2113   \n",
            "1  170625  BOGOTA            234   \n",
            "2  264021  BOGOTA            232   \n",
            "3  305384  BOGOTA            227   \n",
            "4  392053  BOGOTA            217   \n",
            "\n",
            "                                            PROGRAMA  SEMESTRE  CÓDIGO  \\\n",
            "0  TÉCNICA PROFESIONAL EN OPERACIÓN Y MANTENIMIEN...         4  43007C   \n",
            "1                   INGENIERÍA DE TELECOMUNICACIONES        10  53007C   \n",
            "2                             INGENIERÍA DE SISTEMAS        10  63092C   \n",
            "3  TECNOLOGÍA EN ANÁLISIS Y DESARROLLO DE SISTEMA...         7  63085C   \n",
            "4  TÉCNICA PROFESIONAL EN INSTALACIÓN DE REDES DE...         4  43007C   \n",
            "\n",
            "                    MATERIA   JORNADA  UBICACION SEMESTRAL  \\\n",
            "0            ÁLGEBRA LINEAL  NOCTURNA                  1.0   \n",
            "1     PROYECTO FIN DE GRADO  NOCTURNA                 10.0   \n",
            "2  ARQUITECTURA EMPRESARIAL  NOCTURNA                 10.0   \n",
            "3     ARQUITECTURA DE DATOS  NOCTURNA                  7.0   \n",
            "4            ÁLGEBRA LINEAL  NOCTURNA                  1.0   \n",
            "\n",
            "   PROMEDIO ACUMULADO  ...  FALLAS MOMENTO1  FALLAS MOMENTO2  FALLAS MOMENTO3  \\\n",
            "0                 4.7  ...                5                1                5   \n",
            "1                 3.8  ...                1                5                2   \n",
            "2                 4.2  ...                0                4                0   \n",
            "3                 3.9  ...                5                5                5   \n",
            "4                 4.1  ...                2                4                2   \n",
            "\n",
            "  TOTAL FALLAS    ESTADO  EDAD     GENERO  ESTRATO  LUGAR DE RESIDENCIA  \\\n",
            "0           11  APROBADO    76  Masculino        2             Fontibón   \n",
            "1            8  APROBADO    50  Masculino        3        Puente Aranda   \n",
            "2            4  APROBADO    55  Masculino        3              Kennedy   \n",
            "3           15  APROBADO    33  Masculino        2       Barrios Unidos   \n",
            "4            8  APROBADO    69   Femenino        5       Ciudad Bolívar   \n",
            "\n",
            "  Probabilidad_desercion  \n",
            "0                   True  \n",
            "1                   True  \n",
            "2                   True  \n",
            "3                   True  \n",
            "4                   True  \n",
            "\n",
            "[5 rows x 25 columns]\n"
          ]
        }
      ]
    },
    {
      "cell_type": "code",
      "source": [
        "df['probabilidad_desercion'] = 1"
      ],
      "metadata": {
        "id": "xtIif_gwDyG6"
      },
      "execution_count": 191,
      "outputs": []
    },
    {
      "cell_type": "code",
      "source": [
        "probabilidad_desercion= df.copy()"
      ],
      "metadata": {
        "id": "IdeyLBSdD6wI"
      },
      "execution_count": 192,
      "outputs": []
    },
    {
      "cell_type": "code",
      "source": [
        "print(probabilidad_desercion.head())"
      ],
      "metadata": {
        "colab": {
          "base_uri": "https://localhost:8080/"
        },
        "id": "4HURmqzLEEqw",
        "outputId": "5c39430d-b0b6-40c0-c2c6-769f34d720c5"
      },
      "execution_count": 194,
      "outputs": [
        {
          "output_type": "stream",
          "name": "stdout",
          "text": [
            "       ID    SEDE  COD. PROGRAMA  \\\n",
            "0  396007  BOGOTA           2113   \n",
            "1  170625  BOGOTA            234   \n",
            "2  264021  BOGOTA            232   \n",
            "3  305384  BOGOTA            227   \n",
            "4  392053  BOGOTA            217   \n",
            "\n",
            "                                            PROGRAMA  SEMESTRE  CÓDIGO  \\\n",
            "0  TÉCNICA PROFESIONAL EN OPERACIÓN Y MANTENIMIEN...         4  43007C   \n",
            "1                   INGENIERÍA DE TELECOMUNICACIONES        10  53007C   \n",
            "2                             INGENIERÍA DE SISTEMAS        10  63092C   \n",
            "3  TECNOLOGÍA EN ANÁLISIS Y DESARROLLO DE SISTEMA...         7  63085C   \n",
            "4  TÉCNICA PROFESIONAL EN INSTALACIÓN DE REDES DE...         4  43007C   \n",
            "\n",
            "                    MATERIA   JORNADA  UBICACION SEMESTRAL  \\\n",
            "0            ÁLGEBRA LINEAL  NOCTURNA                  1.0   \n",
            "1     PROYECTO FIN DE GRADO  NOCTURNA                 10.0   \n",
            "2  ARQUITECTURA EMPRESARIAL  NOCTURNA                 10.0   \n",
            "3     ARQUITECTURA DE DATOS  NOCTURNA                  7.0   \n",
            "4            ÁLGEBRA LINEAL  NOCTURNA                  1.0   \n",
            "\n",
            "   PROMEDIO ACUMULADO  ...  FALLAS MOMENTO2  FALLAS MOMENTO3  TOTAL FALLAS  \\\n",
            "0                 4.7  ...                1                5            11   \n",
            "1                 3.8  ...                5                2             8   \n",
            "2                 4.2  ...                4                0             4   \n",
            "3                 3.9  ...                5                5            15   \n",
            "4                 4.1  ...                4                2             8   \n",
            "\n",
            "     ESTADO EDAD     GENERO  ESTRATO  LUGAR DE RESIDENCIA  \\\n",
            "0  APROBADO   76  Masculino        2             Fontibón   \n",
            "1  APROBADO   50  Masculino        3        Puente Aranda   \n",
            "2  APROBADO   55  Masculino        3              Kennedy   \n",
            "3  APROBADO   33  Masculino        2       Barrios Unidos   \n",
            "4  APROBADO   69   Femenino        5       Ciudad Bolívar   \n",
            "\n",
            "   Probabilidad_desercion probabilidad_desercion  \n",
            "0                    True                      1  \n",
            "1                    True                      1  \n",
            "2                    True                      1  \n",
            "3                    True                      1  \n",
            "4                    True                      1  \n",
            "\n",
            "[5 rows x 26 columns]\n"
          ]
        }
      ]
    },
    {
      "source": [
        "# Suponiendo que 'alto_riesgo' se define por una condición en la columna 'probabilidad_desercion'\n",
        "alto_riesgo = df['probabilidad_desercion'] > 0.8  # Ajusta la condición según tu lógica\n",
        "\n",
        "# Ahora 'alto_riesgo' tendrá la misma longitud que 'df'\n",
        "estudiantes_en_riesgo = df.loc[alto_riesgo, ['ID', 'probabilidad_desercion']]\n",
        "print(estudiantes_en_riesgo)"
      ],
      "cell_type": "code",
      "metadata": {
        "colab": {
          "base_uri": "https://localhost:8080/"
        },
        "id": "9r0L5tRFGOk1",
        "outputId": "ddf21646-3752-46bb-cac4-d177fdd1bb09"
      },
      "execution_count": 197,
      "outputs": [
        {
          "output_type": "stream",
          "name": "stdout",
          "text": [
            "          ID  probabilidad_desercion\n",
            "0     396007                       1\n",
            "1     170625                       1\n",
            "2     264021                       1\n",
            "3     305384                       1\n",
            "4     392053                       1\n",
            "...      ...                     ...\n",
            "2211  376537                       1\n",
            "2212  183720                       1\n",
            "2213  365358                       1\n",
            "2214  313509                       1\n",
            "2215  379169                       1\n",
            "\n",
            "[2216 rows x 2 columns]\n"
          ]
        }
      ]
    },
    {
      "cell_type": "code",
      "source": [
        "estudiantes_en_riesgo = df.loc[alto_riesgo, ['ID', 'probabilidad_desercion']]\n",
        "print(estudiantes_en_riesgo)"
      ],
      "metadata": {
        "colab": {
          "base_uri": "https://localhost:8080/"
        },
        "id": "CMjsbPqLGaCa",
        "outputId": "2e6a32be-f3f8-4165-ee79-65c6beaad956"
      },
      "execution_count": 199,
      "outputs": [
        {
          "output_type": "stream",
          "name": "stdout",
          "text": [
            "          ID  probabilidad_desercion\n",
            "0     396007                       1\n",
            "1     170625                       1\n",
            "2     264021                       1\n",
            "3     305384                       1\n",
            "4     392053                       1\n",
            "...      ...                     ...\n",
            "2211  376537                       1\n",
            "2212  183720                       1\n",
            "2213  365358                       1\n",
            "2214  313509                       1\n",
            "2215  379169                       1\n",
            "\n",
            "[2216 rows x 2 columns]\n"
          ]
        }
      ]
    }
  ]
}